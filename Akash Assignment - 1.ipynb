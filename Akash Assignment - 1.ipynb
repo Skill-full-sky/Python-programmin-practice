{
 "cells": [
  {
   "cell_type": "code",
   "execution_count": 1,
   "id": "b56a5951",
   "metadata": {},
   "outputs": [
    {
     "name": "stdout",
     "output_type": "stream",
     "text": [
      "Name- Akash Mathane\n",
      "Phone no. - 7038588211\n",
      "Residential address- Amravati\n",
      "Email address- akash.p.mathane@gmail.com\n"
     ]
    }
   ],
   "source": [
    "# Write a Python program to print your personal details on the output screen.\n",
    "print (\"Name- Akash Mathane\")\n",
    "print (\"Phone no. - 7038588211\")\n",
    "print (\"Residential address- Amravati\")\n",
    "print (\"Email address- akash.p.mathane@gmail.com\")\n"
   ]
  },
  {
   "cell_type": "code",
   "execution_count": 3,
   "id": "3b581e4b",
   "metadata": {},
   "outputs": [
    {
     "name": "stdout",
     "output_type": "stream",
     "text": [
      "4\n",
      "202\n",
      "227\n",
      "232\n",
      "237\n"
     ]
    }
   ],
   "source": [
    "# Write a Program to accept two numbers and display their sum.\n",
    "print ( 2 + 2)\n",
    "print ( 200 + 2)\n",
    "print ( 225 + 2)\n",
    "print ( 230 + 2)\n",
    "print ( 235 + 2)"
   ]
  },
  {
   "cell_type": "code",
   "execution_count": 4,
   "id": "240f3c1c",
   "metadata": {},
   "outputs": [
    {
     "name": "stdout",
     "output_type": "stream",
     "text": [
      "area of square is 25\n",
      "Perimeter of the square is 20\n"
     ]
    }
   ],
   "source": [
    "# Write a Program to accept side of square and calculate area and perimeter of Square.\n",
    "\n",
    "a = 5 # side of square is 5\n",
    "area = a*a # formular of area \n",
    "perimeter = 4*a # formular of perimeter\n",
    "\n",
    "print('area of square is', area)\n",
    "print('Perimeter of the square is', perimeter)"
   ]
  },
  {
   "cell_type": "code",
   "execution_count": 7,
   "id": "b6514e01",
   "metadata": {},
   "outputs": [
    {
     "name": "stdout",
     "output_type": "stream",
     "text": [
      "area of square is 78.53981633974483\n",
      "Perimeter of the square is 31.41592653589793\n"
     ]
    }
   ],
   "source": [
    "# Write a Program to accept radius of circle and calculate area and circumference of Circle.\n",
    "\n",
    "r = 5 # radius of circle is 5\n",
    "area = math.pi * a * a # formular for area of circle \n",
    "perimeter = 2* math.pi * r # formular for perimeter of circle\n",
    "\n",
    "print('area of square is', area)\n",
    "print('Perimeter of the square is', perimeter)\n"
   ]
  },
  {
   "cell_type": "code",
   "execution_count": null,
   "id": "f9475dcd",
   "metadata": {},
   "outputs": [],
   "source": [
    "# Write a Program to calculate simple interest.\n",
    "# Note: accept required information from user.\n",
    "\n",
    "p = int(input(\" Tell me the initial principal balance \"))\n",
    "t = int(input(\" Tell me the time you need \"))\n",
    "r = int(input(\" Tell me the annual interest rate \"))\n",
    "simple_intrest = (p*t*r)/100 # P = initial principal balance , T = time (in years) , R = annual interest rate\n",
    "\n",
    "print (\" Simple intrest is \", simple_intrest)\n"
   ]
  },
  {
   "cell_type": "code",
   "execution_count": 11,
   "id": "819efc5b",
   "metadata": {},
   "outputs": [
    {
     "name": "stdout",
     "output_type": "stream",
     "text": [
      " First number 60\n",
      " Second number 66\n",
      " Third number 61\n",
      "The largest no. is  66\n",
      "The smallest no. is  60\n"
     ]
    }
   ],
   "source": [
    "# Write a Program to accept 3 numbers and display smallest and largest number.\n",
    "\n",
    "a = int(input(\" First number \"))\n",
    "b = int(input(\" Second number \"))\n",
    "c = int(input(\" Third number \"))\n",
    "\n",
    "def largest (a,b,c):\n",
    "    if (a>b and a>c):\n",
    "        print(\"The largest no. is \",a)\n",
    "    elif (b>a and b>c):\n",
    "        print(\"The largest no. is \", b)\n",
    "    else:\n",
    "        print(\"The largest no. is \", c)\n",
    "    \n",
    "def smallest(a,b,c):\n",
    "    if (a<b and a<c):\n",
    "         print(\"The smallest no. is \",a)\n",
    "    elif (b<a and b<c):\n",
    "         print(\"The smallest no. is \", b)\n",
    "    else:\n",
    "         print(\"The smallest no. is \", c)\n",
    "\n",
    "largest (a,b,c)\n",
    "smallest(a,b,c)"
   ]
  },
  {
   "cell_type": "code",
   "execution_count": 2,
   "id": "7ec208e7",
   "metadata": {},
   "outputs": [
    {
     "name": "stdout",
     "output_type": "stream",
     "text": [
      "write the first value for a 89\n",
      "write the second value for b 88\n",
      "177\n",
      "1\n",
      "7832\n",
      "1.0113636363636365\n"
     ]
    }
   ],
   "source": [
    "# Write a Program to accept two numbers, and one of the following operators +, -, *, /. Perform the given operation\n",
    "# and display result.\n",
    "a = int(input(\"write the first value for a \"))\n",
    "b = int(input(\"write the second value for b \"))\n",
    "print (a + b)\n",
    "print ( a - b)\n",
    "print ( a * b)\n",
    "print ( a / b)\n"
   ]
  },
  {
   "cell_type": "code",
   "execution_count": 1,
   "id": "e3be30b9",
   "metadata": {},
   "outputs": [
    {
     "name": "stdout",
     "output_type": "stream",
     "text": [
      "write the no. to check odd or even 9\n",
      "your number is odd number\n"
     ]
    }
   ],
   "source": [
    "# Write a Program to accept a number and decide whether it is an odd or even number.\n",
    "\n",
    "number = int(input(\"write the no. to check odd or even \"))\n",
    "\n",
    "if (number%2) == 0:\n",
    "    print(\"your number is even number \")\n",
    "else:\n",
    "    print(\"your number is odd number\")"
   ]
  },
  {
   "cell_type": "code",
   "execution_count": null,
   "id": "7fcec33c",
   "metadata": {},
   "outputs": [],
   "source": [
    "# Write a Python program to get the Python version you are using.\n",
    "\n",
    "print(\"Python version\")\n",
    "print (sys.version)\n",
    "print(\"Version info.\")\n",
    "print (sys.version_info)\n",
    "\n",
    "print(\"----------------\")\n",
    "\n",
    "import platform\n",
    "print(platform.python_version())"
   ]
  },
  {
   "cell_type": "code",
   "execution_count": null,
   "id": "b6f474fb",
   "metadata": {},
   "outputs": [],
   "source": [
    "# Write a Python program to display the examination schedule. (extract the date from exam_st_date)\n",
    "# exam_st_date = (11, 12, 2018)\n",
    "# Sample Output : The examination will start from : 11 / 12 / 2018\n",
    "\n",
    "date = 11\n",
    "month = 12\n",
    "year = 2018\n",
    "\n",
    "print(\"The examination will start from : \", date, month, year)\n",
    "\n",
    "print(\"----------------\")\n",
    "\n",
    "exam_st_date = (11, 12, 2018)\n",
    "print( \"The examination will start from : %i / %i / %i\" %exam_st_date)\n"
   ]
  },
  {
   "cell_type": "code",
   "execution_count": 1,
   "id": "aec14374",
   "metadata": {},
   "outputs": [
    {
     "name": "stdout",
     "output_type": "stream",
     "text": [
      "write no. here to check 141\n",
      "original number =  141\n",
      "reverse  number =  141\n",
      "The given no. is palindrom\n"
     ]
    }
   ],
   "source": [
    "# Write a Python program to check weather user inputted number is palindrome or not.\n",
    "\n",
    "no = int(input(\"write no. here to check \"))\n",
    "rem = 0\n",
    "rev = 0\n",
    "org = no\n",
    "\n",
    "while(no>0):\n",
    "    rem = no%10\n",
    "    rev = rev *10 + rem \n",
    "    no = no//10\n",
    "         \n",
    "print(\"original number = \",org)\n",
    "print(\"reverse  number = \",rev)\n",
    "\n",
    "if(org == rev):\n",
    "    print(\"The given no. is palindrom\")\n",
    "else:\n",
    "    print(\"Given number is not palindrom\")\n",
    "    \n",
    "    "
   ]
  },
  {
   "cell_type": "code",
   "execution_count": 27,
   "id": "f7325833",
   "metadata": {},
   "outputs": [
    {
     "name": "stdout",
     "output_type": "stream",
     "text": [
      "write no. here to check 4\n",
      "Not prime number\n"
     ]
    }
   ],
   "source": [
    "# Write a Python program to check weather user inputted number is prime or not.\n",
    "\n",
    "no = int(input(\"write no. here to check \"))\n",
    "start = 2\n",
    "end = no//2\n",
    "status = 0\n",
    "for x in range(start, end+1):\n",
    "    if(no %  x == 0):\n",
    "        status = 1\n",
    "    \n",
    "if(status == 1):\n",
    "    print(\"Not prime number\")\n",
    "else:\n",
    "    print(\"Prime number\")\n"
   ]
  },
  {
   "cell_type": "code",
   "execution_count": 4,
   "id": "e8cceee2",
   "metadata": {},
   "outputs": [
    {
     "name": "stdout",
     "output_type": "stream",
     "text": [
      "write no. here to check 259\n",
      "original number =  259\n",
      "reverse  number =  862\n",
      "Given number is not Armstrong\n"
     ]
    }
   ],
   "source": [
    "# Write a Python program to check weather user inputted number is Armstrong or not.\n",
    "no = int(input(\"write no. here to check \"))\n",
    "rem = 0\n",
    "rev = 0\n",
    "org = no\n",
    "\n",
    "while(no>0):\n",
    "    rem = no%10\n",
    "    rev = rev + rem ** 3\n",
    "    no = no//10\n",
    "         \n",
    "print(\"original number = \",org)\n",
    "print(\"reverse  number = \",rev)\n",
    "\n",
    "if(org == rev):\n",
    "    print(\"The given no. is Armstrong\")\n",
    "else:\n",
    "    print(\"Given number is not Armstrong\")"
   ]
  },
  {
   "cell_type": "code",
   "execution_count": 11,
   "id": "00ddbe68",
   "metadata": {},
   "outputs": [
    {
     "name": "stdout",
     "output_type": "stream",
     "text": [
      "2002,2009,2016,2023,2037,2044,2051,2058,2072,2079,2086,2093,2107,2114,2121,2128,2142,2149,2156,2163,2177,2184,2191,2198,2212,2219,2226,2233,2247,2254,2261,2268,2282,2289,2296,2303,2317,2324,2331,2338,2352,2359,2366,2373,2387,2394,2401,2408,2422,2429,2436,2443,2457,2464,2471,2478,2492,2499,2506,2513,2527,2534,2541,2548,2562,2569,2576,2583,2597,2604,2611,2618,2632,2639,2646,2653,2667,2674,2681,2688,2702,2709,2716,2723,2737,2744,2751,2758,2772,2779,2786,2793,2807,2814,2821,2828,2842,2849,2856,2863,2877,2884,2891,2898,2912,2919,2926,2933,2947,2954,2961,2968,2982,2989,2996,3003,3017,3024,3031,3038,3052,3059,3066,3073,3087,3094,3101,3108,3122,3129,3136,3143,3157,3164,3171,3178,3192,3199\n"
     ]
    }
   ],
   "source": [
    "# Write a program which will find all such numbers which are divisible by 7 but are not a multiple of 5, between 2000\n",
    "# and 3200 (both included).\n",
    "\n",
    "li = []\n",
    "for i in range(2000,3200):\n",
    "    if i%7 == 0 and i%5 != 0:\n",
    "        li.append(str(i))\n",
    "        \n",
    "print(','.join(li))\n",
    "\n"
   ]
  },
  {
   "cell_type": "code",
   "execution_count": 21,
   "id": "b50e61d2",
   "metadata": {},
   "outputs": [
    {
     "name": "stdout",
     "output_type": "stream",
     "text": [
      "The factorial of 8 is 1\n",
      "The factorial of 8 is 2\n",
      "The factorial of 8 is 6\n",
      "The factorial of 8 is 24\n",
      "The factorial of 8 is 120\n",
      "The factorial of 8 is 720\n",
      "The factorial of 8 is 5040\n",
      "The factorial of 8 is 40320\n"
     ]
    }
   ],
   "source": [
    "# Write a program, which can compute the factorial of a given numbers.\n",
    "# Suppose the following input is supplied to the program:\n",
    "# 8\n",
    "# Then, the output should be:\n",
    "# 40320\n",
    "\n",
    "no = 8\n",
    "fact = 1\n",
    "\n",
    "for i in range(1, no+1):\n",
    "    fact = fact * i\n",
    "    print(\"The factorial of\",no,\"is\",fact)\n",
    "    \n",
    "\n",
    "\n",
    "\n",
    "    \n"
   ]
  },
  {
   "cell_type": "code",
   "execution_count": 27,
   "id": "ccdea159",
   "metadata": {},
   "outputs": [
    {
     "name": "stdout",
     "output_type": "stream",
     "text": [
      "Enter the letter here: a\n",
      "Your letter is vowel\n"
     ]
    }
   ],
   "source": [
    "# Write a Python program to test whether a passed letter is a vowel or not\n",
    "\n",
    "letters = input(\"Enter the letter here: \")\n",
    "\n",
    "if letters in ('a','e','i','o','u'):\n",
    "    print(\"Your letter is vowel\")\n",
    "else:\n",
    "    print(\"Your letter is not vowel\")\n"
   ]
  },
  {
   "cell_type": "code",
   "execution_count": 2,
   "id": "3d1615b7",
   "metadata": {},
   "outputs": [
    {
     "name": "stdout",
     "output_type": "stream",
     "text": [
      "Enter the name here: aakash\n",
      "total numbers of vowels are 1\n",
      "total numbers of vowels are 2\n",
      "total numbers of vowels are 3\n"
     ]
    }
   ],
   "source": [
    "# Modify above program to accept name and number. Display name for given number of times\n",
    "\n",
    "name = input(\"Enter the name here: \")\n",
    "vowel = 0\n",
    "for i in name:\n",
    "    if (i == 'a' or i == 'e' or i == 'i' or i == 'o' or i == 'u'):\n",
    "        vowel = vowel + 1\n",
    "        print(\"total numbers of vowels are\", vowel)\n",
    "\n",
    "\n",
    "\n",
    "\n"
   ]
  },
  {
   "cell_type": "code",
   "execution_count": 20,
   "id": "ba3e8fb3",
   "metadata": {},
   "outputs": [
    {
     "name": "stdout",
     "output_type": "stream",
     "text": [
      "3\n",
      "4\n",
      "5\n",
      "6\n",
      "7\n",
      "8\n",
      "9\n"
     ]
    }
   ],
   "source": [
    "# Write an Program to accept two numbers from user and display all numbers between those numbers\n",
    "# Example: If user enters 3 and 9 program should display numbers 3,4,5,6,7,8 and 9\n",
    "\n",
    "no = 2\n",
    "\n",
    "for i in range(3,10):\n",
    "    no = no + 1\n",
    "    print(no)\n",
    "    \n",
    "\n",
    "\n"
   ]
  },
  {
   "cell_type": "code",
   "execution_count": 34,
   "id": "3a138678",
   "metadata": {},
   "outputs": [
    {
     "name": "stdout",
     "output_type": "stream",
     "text": [
      "Enter number of rows: 9\n",
      "1\n",
      "22\n",
      "333\n",
      "4444\n",
      "55555\n",
      "666666\n",
      "7777777\n",
      "88888888\n",
      "999999999\n",
      "------------------\n",
      "Enter number of rows: 9\n",
      "\n",
      "1\n",
      "22\n",
      "333\n",
      "4444\n",
      "55555\n",
      "666666\n",
      "7777777\n",
      "88888888\n",
      "999999999\n"
     ]
    }
   ],
   "source": [
    "# Write a Program to display following pattern \n",
    "# Modify above program to accept a number (between 1 to 9) from user and display above pattern accordingly.\n",
    "# 1\n",
    "# 22\n",
    "# 333\n",
    "# 4444\n",
    "# 55555\n",
    "# 666666\n",
    "# 7777777\n",
    "# 88888888\n",
    "# 999999999\n",
    "\n",
    "\n",
    "n = int(input(\"Enter number of rows: \"))\n",
    "\n",
    "for i in range(1,n+1):\n",
    "    for j in range(1, i+1):\n",
    "        print(i, end=\"\")\n",
    "    print()\n",
    "    \n",
    "print(\"------------------\")\n",
    "\n",
    "n = int(input(\"Enter number of rows: \"))\n",
    "\n",
    "for i in range(10):\n",
    "    print(str(i) * i)\n",
    "    "
   ]
  },
  {
   "cell_type": "code",
   "execution_count": 47,
   "id": "bc1eae33",
   "metadata": {},
   "outputs": [
    {
     "name": "stdout",
     "output_type": "stream",
     "text": [
      "Enter number of rows: 9\n",
      "123456789\n",
      "12345678\n",
      "1234567\n",
      "123456\n",
      "12345\n",
      "1234\n",
      "123\n",
      "12\n",
      "1\n",
      "------------------\n",
      "Enter number of rows: 9\n",
      "999999999\n",
      "88888888\n",
      "7777777\n",
      "666666\n",
      "55555\n",
      "4444\n",
      "333\n",
      "22\n",
      "1\n"
     ]
    }
   ],
   "source": [
    "# pattern programs\n",
    "\n",
    "n = int(input(\"Enter number of rows: \"))\n",
    "\n",
    "for row in range(n,0,-1):\n",
    "    for col in range(1, row + 1):\n",
    "        print(col,end = \"\")\n",
    "    print()\n",
    "    \n",
    "print(\"------------------\")\n",
    "\n",
    "n = int(input(\"Enter number of rows: \"))\n",
    "\n",
    "for i in range(n,0,-1):\n",
    "    for col in range(1, i + 1):\n",
    "        print(i,end = \"\")\n",
    "    print()\n"
   ]
  },
  {
   "cell_type": "code",
   "execution_count": 45,
   "id": "67c1260d",
   "metadata": {},
   "outputs": [
    {
     "name": "stdout",
     "output_type": "stream",
     "text": [
      "Enter number of rows: 9\n",
      "1 1 1 1 1 1 1 1 1 \n",
      "2 2 2 2 2 2 2 2 \n",
      "3 3 3 3 3 3 3 \n",
      "4 4 4 4 4 4 \n",
      "5 5 5 5 5 \n",
      "6 6 6 6 \n",
      "7 7 7 \n",
      "8 8 \n",
      "9 \n"
     ]
    }
   ],
   "source": [
    "# Write an Program to display following pattern\n",
    "# 111111111\n",
    "# 22222222\n",
    "# 3333333\n",
    "# 444444\n",
    "# 55555\n",
    "# 6666\n",
    "# 777\n",
    "# 88\n",
    "# 9\n",
    "\n",
    "\n",
    "n = int(input(\"Enter number of rows: \"))\n",
    "b = 0\n",
    "\n",
    "for i in range(n, 0, -1):\n",
    "    b += 1\n",
    "    for j in range(1, i + 1):\n",
    "        print(b, end=' ')\n",
    "    print()"
   ]
  },
  {
   "cell_type": "code",
   "execution_count": 6,
   "id": "9d2114f8",
   "metadata": {},
   "outputs": [
    {
     "name": "stdout",
     "output_type": "stream",
     "text": [
      "Write number here to print stars 10\n",
      "* * * * * * * * * * \n",
      "* * * * * * * * * \n",
      "* * * * * * * * \n",
      "* * * * * * * \n",
      "* * * * * * \n",
      "* * * * * \n",
      "* * * * \n",
      "* * * \n",
      "* * \n",
      "* \n"
     ]
    }
   ],
   "source": [
    "# Write a Program to display following pattern\n",
    "# ********\n",
    "# *******\n",
    "# ******\n",
    "# ****\n",
    "# ***\n",
    "# **\n",
    "# *\n",
    "\n",
    "n = int(input(\"Write number here to print stars \"))\n",
    "\n",
    "\n",
    "for i in range(n,0,-1):\n",
    "    for j in range(1, i + 1):\n",
    "        print(\"*\", end=' ')\n",
    "    print()"
   ]
  },
  {
   "cell_type": "code",
   "execution_count": 7,
   "id": "ec9af570",
   "metadata": {},
   "outputs": [
    {
     "name": "stdout",
     "output_type": "stream",
     "text": [
      "Write number here to print stars 9\n",
      "        * \n",
      "       * * \n",
      "      * * * \n",
      "     * * * * \n",
      "    * * * * * \n",
      "   * * * * * * \n",
      "  * * * * * * * \n",
      " * * * * * * * * \n",
      "* * * * * * * * * \n"
     ]
    }
   ],
   "source": [
    "# Write a Program to display following pattern\n",
    "# Note: There are nine * in last line\n",
    "#     *\n",
    "#    ***\n",
    "#   *****\n",
    "#  *******\n",
    "# *********\n",
    "\n",
    "n = int(input(\"Write number here to print stars \"))\n",
    "\n",
    "for i in range(0,n):\n",
    "    for j in range(0,n-i-1):\n",
    "        print(end = \" \")\n",
    "    for j in range(0,i+1):\n",
    "        print(\"*\", end = \" \")\n",
    "    print()\n"
   ]
  },
  {
   "cell_type": "code",
   "execution_count": 14,
   "id": "665191fd",
   "metadata": {},
   "outputs": [
    {
     "name": "stdout",
     "output_type": "stream",
     "text": [
      "Write number here to print stars 9\n",
      "\n",
      "* \n",
      "* * \n",
      "* * * \n",
      "* * * * \n",
      "* * * * * \n",
      "* * * * * * \n",
      "* * * * * * * \n",
      "* * * * * * * * \n"
     ]
    }
   ],
   "source": [
    "# 24 Write a Program to display following pattern\n",
    "\n",
    "n = int(input(\"Write number here to print stars \"))\n",
    "\n",
    "for i in range(0,n):\n",
    "    for j in range(0,i):\n",
    "        print(\"*\", end = \" \")\n",
    "    print()"
   ]
  },
  {
   "cell_type": "code",
   "execution_count": null,
   "id": "8a7bb76d",
   "metadata": {},
   "outputs": [],
   "source": [
    "# 25 Write an Program to display following pattern"
   ]
  },
  {
   "cell_type": "code",
   "execution_count": 22,
   "id": "d4fa7c56",
   "metadata": {},
   "outputs": [
    {
     "name": "stdout",
     "output_type": "stream",
     "text": [
      "write the numer here to start reverse order: 10\n",
      "10 9 8 7 6 5 4 3 2 1 "
     ]
    }
   ],
   "source": [
    "# Write a Program to display numbers 10 to 1 in reverse order.\n",
    "# Note: Output should be 10, 9, 8, 7, ….., 2, 1\n",
    "\n",
    "n = int(input(\"write the numer here to start reverse order: \"))\n",
    "\n",
    "while(n>=1):\n",
    "    print(n, end = \" \")\n",
    "    n = n - 1\n",
    "    "
   ]
  },
  {
   "cell_type": "code",
   "execution_count": 30,
   "id": "a07442ae",
   "metadata": {},
   "outputs": [
    {
     "name": "stdout",
     "output_type": "stream",
     "text": [
      "writr a number here to start a table: 10\n",
      "10 x 1 = 10\n",
      "10 x 2 = 20\n",
      "10 x 3 = 30\n",
      "10 x 4 = 40\n",
      "10 x 5 = 50\n",
      "10 x 6 = 60\n",
      "10 x 7 = 70\n",
      "10 x 8 = 80\n",
      "10 x 9 = 90\n",
      "10 x 10 = 100\n"
     ]
    }
   ],
   "source": [
    "# Write a Program to accept number and display its table.\n",
    "# Note: If user enters 7 output should be as follows\n",
    "\n",
    "n = int(input('writr a number here to start a table: '))\n",
    "\n",
    "\n",
    "for i in range(1,11):\n",
    "    print(n, \"x\", i, \"=\", n*i )"
   ]
  },
  {
   "cell_type": "code",
   "execution_count": 41,
   "id": "8179123d",
   "metadata": {},
   "outputs": [
    {
     "name": "stdout",
     "output_type": "stream",
     "text": [
      "Twinkle, twinkle, little star,\n",
      "\t How I wonder what you are!\n",
      "Up above the world so high,\n",
      "\t\tLike a diamond in the sky.\n",
      "Twinkle, twinkle, little star,\n",
      "\tHow I wonder what you are!\n"
     ]
    }
   ],
   "source": [
    "# Write a Python program to print the following string in a specific format (see the output).\n",
    "# Sample String= \"Twinkle, twinkle, little star, How I wonder what you are! Up above the world so high, Like a\n",
    "# diamond in the sky. Twinkle, twinkle, little star, How I wonder what you are!\"\n",
    "\n",
    "print(\"Twinkle, twinkle, little star,\\n\\t How I wonder what you are!\\nUp above the world so high,\\n\\t\\tLike a diamond in the sky.\\nTwinkle, twinkle, little star,\\n\\tHow I wonder what you are!\" )"
   ]
  },
  {
   "cell_type": "code",
   "execution_count": 53,
   "id": "fbbe66aa",
   "metadata": {},
   "outputs": [
    {
     "name": "stdout",
     "output_type": "stream",
     "text": [
      "Enter start number:1\n",
      "Enter last number:100\n",
      "35\n",
      "70\n"
     ]
    }
   ],
   "source": [
    "# Write a Program to display 10 numbers that are divisible by 5 and 7\n",
    "\n",
    "a = int(input(\"Enter start number:\"))\n",
    " \n",
    "b = int(input(\"Enter last number:\"))\n",
    "\n",
    "for i in range(a,b):\n",
    "    if ((i%5==0) and (i%7==0)):\n",
    "        print(i)\n",
    "        \n",
    "\n",
    "    "
   ]
  },
  {
   "cell_type": "code",
   "execution_count": null,
   "id": "9aafde57",
   "metadata": {},
   "outputs": [],
   "source": [
    "# Write a program to calculate time reached to given destination. Accept following details from the user.\n",
    "\n",
    "Name_of_destination = input(\"Name of destination: \")\n",
    "Distance_to_destination = int(input(\"Distance to destination: \"))\n",
    "Speed_per_Kilometre = int(input(\"Speed per Kilometre: \"))\n",
    "No_of_breaks_in_journey = int(input(\"No of breaks in journey: \"))\n",
    "Time_per_break = int(input(\"Time per break: \"))\n",
    "\n",
    "\n"
   ]
  },
  {
   "cell_type": "code",
   "execution_count": 61,
   "id": "5fc89d70",
   "metadata": {},
   "outputs": [
    {
     "name": "stdout",
     "output_type": "stream",
     "text": [
      "1 1 2 3 \n",
      "[1, 1, 2, 3]\n",
      "[1, 1, 2, 3]\n",
      "Select a number: \n",
      "10\n",
      "[1, 1, 2, 3, 5, 8]\n"
     ]
    }
   ],
   "source": [
    "# 31\n",
    "a = [1, 1, 2, 3, 5, 8, 13, 21, 34, 55, 89]\n",
    "\n",
    "for i in a:\n",
    "    if(i<5):\n",
    "        print(i, end=\" \")\n",
    "print()        \n",
    "#Instead of printing the elements one by one, make a new list that has all the elements less than 5 from\n",
    "#this list in it and print out this new list.\n",
    "a = [1, 1, 2, 3, 5, 8, 13, 21, 34, 55, 89]\n",
    "b = []\n",
    "for i in a:\n",
    "    if i < 5:\n",
    "        b.append(i)\n",
    "print(b)\n",
    "\n",
    "#Write this in one line of Python. \n",
    "a = [1, 1, 2, 3, 5, 8, 13, 21, 34, 55, 89]\n",
    "b = []\n",
    "[b.append(i) for i in a if i < 5]\n",
    "print(b)\n",
    "\n",
    "#Ask the user for a number and return a list that contains only elements from \n",
    "#the original list a that are smaller than that number given by the user.\n",
    "a = [1, 1, 2, 3, 5, 8, 13, 21, 34, 55, 89]\n",
    "b = []\n",
    "user_input = int(input('Select a number: \\n'))\n",
    "[b.append(i) for i in a if i < user_input]\n",
    "print(b)"
   ]
  },
  {
   "cell_type": "code",
   "execution_count": 3,
   "id": "90734618",
   "metadata": {},
   "outputs": [
    {
     "name": "stdout",
     "output_type": "stream",
     "text": [
      "Type your string here to check Akash\n",
      "string is not palindrom\n"
     ]
    }
   ],
   "source": [
    "# 32 Ask the user for a string and print out whether this string is a palindrome or not. (A palindrome is a string that reads\n",
    "# the same forwards and backwards.)\n",
    "\n",
    "string = input(\"Type your string here to check \")\n",
    "\n",
    "if (string == string[::-1]):\n",
    "    print(\"string is palindrom\",string)\n",
    "else:\n",
    "    print(\"string is not palindrom\")\n",
    "    \n"
   ]
  },
  {
   "cell_type": "code",
   "execution_count": 2,
   "id": "8a7a3b2e",
   "metadata": {},
   "outputs": [
    {
     "name": "stdout",
     "output_type": "stream",
     "text": [
      "minimum no. is  100\n",
      "maximum no. is  900\n",
      "Index no. is  6\n"
     ]
    }
   ],
   "source": [
    "# Ask user to enter 10 elements in the list and find minimum and maximum of from the list.\n",
    "\n",
    "list = [100,200,300,400,500,600,700,800,900]\n",
    "\n",
    "print(\"minimum no. is \", min(list))\n",
    "print(\"maximum no. is \", max(list))\n",
    "print(\"Index no. is \", list.index(700))"
   ]
  },
  {
   "cell_type": "code",
   "execution_count": 18,
   "id": "3b82cfc2",
   "metadata": {},
   "outputs": [
    {
     "ename": "SyntaxError",
     "evalue": "invalid syntax (836056150.py, line 8)",
     "output_type": "error",
     "traceback": [
      "\u001b[1;36m  File \u001b[1;32m\"C:\\Users\\GODGHOST\\AppData\\Local\\Temp\\ipykernel_4336\\836056150.py\"\u001b[1;36m, line \u001b[1;32m8\u001b[0m\n\u001b[1;33m    else:\u001b[0m\n\u001b[1;37m    ^\u001b[0m\n\u001b[1;31mSyntaxError\u001b[0m\u001b[1;31m:\u001b[0m invalid syntax\n"
     ]
    }
   ],
   "source": [
    "# 34 Write a program to replace minimum element from the list by\n",
    "#     “maximum element+1” and display the result.\n",
    "\n",
    "list = [2, 4, 6, 8, 10, 12, 14, 16,1, 3, 5, 7, 9, 11, 13, 15, 17, 19, 21, 23, 25]\n",
    "\n",
    "\n",
    "        \n"
   ]
  },
  {
   "cell_type": "code",
   "execution_count": 19,
   "id": "8446cb37",
   "metadata": {},
   "outputs": [
    {
     "name": "stdout",
     "output_type": "stream",
     "text": [
      "even no. is  2\n",
      "even no. is  4\n",
      "even no. is  6\n",
      "even no. is  8\n",
      "even no. is  10\n",
      "even no. is  12\n",
      "even no. is  14\n",
      "even no. is  16\n",
      "odd no. is 1\n",
      "odd no. is 3\n",
      "odd no. is 5\n",
      "odd no. is 7\n",
      "odd no. is 9\n",
      "odd no. is 11\n",
      "odd no. is 13\n",
      "odd no. is 15\n",
      "odd no. is 17\n",
      "odd no. is 19\n",
      "odd no. is 21\n",
      "odd no. is 23\n",
      "odd no. is 25\n"
     ]
    }
   ],
   "source": [
    "# 35 Ask user to enter 10 elements in the list and find even and odd from the list.\n",
    "\n",
    "list = [2, 4, 6, 8, 10, 12, 14, 16,1, 3, 5, 7, 9, 11, 13, 15, 17, 19, 21, 23, 25]\n",
    "\n",
    "for x in (list):\n",
    "    if (x%2 == 0):\n",
    "        print(\"even no. is \",x)\n",
    "    elif(x%2 != 0):\n",
    "        print(\"odd no. is\", x)"
   ]
  },
  {
   "cell_type": "code",
   "execution_count": 38,
   "id": "8b4a0df8",
   "metadata": {},
   "outputs": [
    {
     "name": "stdout",
     "output_type": "stream",
     "text": [
      "Enter, how many elements you want: 2\n",
      "Enter here:14\n",
      "Enter here:15\n",
      "2 Not prime number\n"
     ]
    }
   ],
   "source": [
    "# Ask user to enter 10 elements in the list and find prime number from the list.\n",
    "\n",
    "no = int(input(\"Enter, how many elements you want: \"))\n",
    "li = []\n",
    "start = 2\n",
    "end = no//2\n",
    "status = 0\n",
    "\n",
    "for i in range (no):\n",
    "    elements = input(\"Enter here:\" )\n",
    "    li.append(elements)\n",
    "    \n",
    "for x in range(start, end+1):\n",
    "    rem = no % x\n",
    "    if(rem == 0):\n",
    "        status = 1\n",
    "        \n",
    "    \n",
    "    \n",
    "if(status == 0):\n",
    "    print(\"{} Not prime number\".format(no))\n",
    "else:\n",
    "    print(\"{} Prime number\".format(no))\n",
    "    \n",
    "                \n",
    "\n",
    "             "
   ]
  },
  {
   "cell_type": "code",
   "execution_count": 26,
   "id": "dac8a864",
   "metadata": {},
   "outputs": [
    {
     "name": "stdout",
     "output_type": "stream",
     "text": [
      "write no. here to check 4\n",
      "Enter here:14\n",
      "Enter here:15\n",
      "Enter here:16\n",
      "Enter here:12\n",
      "Given number is not Armstrong\n"
     ]
    }
   ],
   "source": [
    "# Ask user to enter 10 elements in the and find all Armstrong numbers from the list.\n",
    "\n",
    "no = int(input(\"write no. here to check \"))\n",
    "li = []\n",
    "rem = 0\n",
    "rev = 0\n",
    "org = no\n",
    "\n",
    "for i in range (no):\n",
    "    elements = input(\"Enter here:\" )\n",
    "    li.append(elements)\n",
    "    \n",
    "while(no > 0):\n",
    "    rem = no%10\n",
    "    rev = rev + rem ** 3\n",
    "    no = no//10\n",
    "         \n",
    "if(org == rev):\n",
    "    print(\"The given no. is Armstrong\")\n",
    "else:\n",
    "    print(\"Given number is not Armstrong\")      \n",
    "\n",
    "\n"
   ]
  },
  {
   "cell_type": "code",
   "execution_count": 36,
   "id": "8ebc088a",
   "metadata": {},
   "outputs": [
    {
     "ename": "SyntaxError",
     "evalue": "invalid syntax (3236484060.py, line 12)",
     "output_type": "error",
     "traceback": [
      "\u001b[1;36m  File \u001b[1;32m\"C:\\Users\\GODGHOST\\AppData\\Local\\Temp\\ipykernel_1628\\3236484060.py\"\u001b[1;36m, line \u001b[1;32m12\u001b[0m\n\u001b[1;33m    if\u001b[0m\n\u001b[1;37m      ^\u001b[0m\n\u001b[1;31mSyntaxError\u001b[0m\u001b[1;31m:\u001b[0m invalid syntax\n"
     ]
    }
   ],
   "source": [
    "# 38 Write a program to create 3 list and restrict the user to insert only prime number in first_list, only palindrome number\n",
    "# in second_list, only Armstrong number in third_list.\n",
    "\n",
    "list_1 = int(input(\"For list_1: \"))\n",
    "list_2 = int(input(\"For list_2: \"))\n",
    "list_3 = int(input(\"For list_3: \"))\n",
    "\n",
    "for a in range (list_1):\n",
    "    elements = input(\"Enter here:\" )\n",
    "    li.append(elements)\n",
    "    while True:\n",
    "        \n",
    "               \n",
    "\n",
    "\n",
    "for b in range (list_2):\n",
    "    elements = input(\"Enter here:\" )\n",
    "    li.append(elements)\n",
    "\n",
    "for c in range (list_3):\n",
    "    elements = input(\"Enter here:\" )\n",
    "    li.append(elements)"
   ]
  },
  {
   "cell_type": "code",
   "execution_count": 40,
   "id": "be77a6b0",
   "metadata": {},
   "outputs": [
    {
     "name": "stdout",
     "output_type": "stream",
     "text": [
      "Type a number: 9\n",
      "{1: 1, 2: 4, 3: 9, 4: 16, 5: 25, 6: 36, 7: 49, 8: 64, 9: 81}\n"
     ]
    }
   ],
   "source": [
    "# 39 With a given integral number n, write a program to generate a dictionary that contains (i, i*i) such that is an integral\n",
    "# number between 1 and n (both included). and then the program should print the dictionary.\n",
    "\n",
    "number = int(input(\"Type a number: \"))\n",
    "\n",
    "numberDict = {}\n",
    "for i in range(1, number+1):\n",
    "    numberDict[i] = i*i\n",
    "\n",
    "print(numberDict)"
   ]
  },
  {
   "cell_type": "code",
   "execution_count": null,
   "id": "aa9e3a3f",
   "metadata": {},
   "outputs": [],
   "source": []
  },
  {
   "cell_type": "code",
   "execution_count": null,
   "id": "c5310ba3",
   "metadata": {},
   "outputs": [],
   "source": []
  }
 ],
 "metadata": {
  "kernelspec": {
   "display_name": "Python 3 (ipykernel)",
   "language": "python",
   "name": "python3"
  },
  "language_info": {
   "codemirror_mode": {
    "name": "ipython",
    "version": 3
   },
   "file_extension": ".py",
   "mimetype": "text/x-python",
   "name": "python",
   "nbconvert_exporter": "python",
   "pygments_lexer": "ipython3",
   "version": "3.9.13"
  }
 },
 "nbformat": 4,
 "nbformat_minor": 5
}
